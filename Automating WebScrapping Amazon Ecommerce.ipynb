{
 "cells": [
  {
   "cell_type": "code",
   "execution_count": 10,
   "id": "650fde2e",
   "metadata": {},
   "outputs": [],
   "source": [
    "from autoscraper import AutoScraper\n"
   ]
  },
  {
   "cell_type": "code",
   "execution_count": 11,
   "id": "a1786fe7",
   "metadata": {},
   "outputs": [],
   "source": [
    "amazon_url=\"https://www.amazon.com/s?k=samsung+phones\"\n",
    "\n",
    "wanted_list=[\"SAMSUNG Galaxy S22 Ultra Cell Phone, Factory Unlocked Android Smartphone, 128GB, 8K Camera, Brightest Display Screen, S Pen, Long Battery Life, Fast 4nm Processor, US Version, 2022, Phantom Black\",\"$350.23\",\"1,012\"]"
   ]
  },
  {
   "cell_type": "code",
   "execution_count": 12,
   "id": "91eafed5",
   "metadata": {},
   "outputs": [
    {
     "name": "stdout",
     "output_type": "stream",
     "text": [
      "['Tracfone Samsung Galaxy A03s, 32GB, Black - Prepaid Smartphone (Locked)', 'SAMSUNG Galaxy A54 5G + 4G LTE (128GB + 8GB) Unlocked Dual Sim (Only T-Mobile/Mint/Metro USA Market) 1 Year Latin America 6.4\" 120Hz 50MP Triple Cam (Awesome Violet SM-A546E/DS)', 'SAMSUNG Galaxy S22 Ultra Cell Phone, Factory Unlocked Android Smartphone, 128GB, 8K Camera, Brightest Display Screen, S Pen, Long Battery Life, Fast 4nm Processor, US Version, 2022, Phantom Black', 'Samsung Galaxy S5, White 16GB (AT&T)', 'SAMSUNG Galaxy Z Fold 4 Cell Phone, Factory Unlocked Android Smartphone, 512GB, Flex Mode, Hands Free Video, Multi Window View, Foldable Display, S Pen Compatible, US Version, Gray Green', 'Samsung Galaxy S4, White Frost 16GB (Sprint)', 'Samsung Galaxy J3, Verizon LTE Prepaid (Black)', 'Samsung Galaxy S6, Black Sapphire 32GB (AT&T)', 'Total by Verizon Samsung Galaxy A03s, 32GB, Black - Prepaid Smartphone (Locked) & Tracfone Samsung Galaxy A03s, 32GB, Black - Prepaid Smartphone (Locked)', 'Samsung Galaxy GS7 Edge, Black 32GB (Sprint)', 'Samsung Galaxy Note 5, White  32GB (AT&T)', 'Samsung Galaxy S10+ Plus 512GB / 8GB RAM SM-G975F/DS Hybrid/Dual-SIM (GSM Only, No CDMA) Factory Unlocked 4G/LTE Smartphone - International Version No Warranty (Ceramic Black)', 'Samsung Galaxy S9 Plus (SM-G965F/DS) 6GB/128GB 6.2-inches LTE Dual SIM Factory Unlocked - International Stock No Warranty (Midnight Black)', 'SAMSUNG Galaxy S10+ Plus 128GB+8GB RAM SM-G975F/DS Dual Sim 6.4\" LTE Factory Unlocked Smartphone International Model, No Warranty (Prism Black)', 'SAMSUNG Galaxy Z Flip 4 Smartphone, Factory Unlocked Android Cell Phone, 256GB, 8K Camera & Video Galaxy Z Flip 4 Clear Cover with Ring', 'SAMSUNG Galaxy A03 Core (SM-A032/DS) Dual SIM 32GB/ 2GB RAM, GSM Unlocked International Version - No Warranty - Black', '$350.23', '$599.99', '$449.99', '$517.95', '769', '1,012', '4,772', '3', '478', '131', '689', '2', '64', '1,371', '153', '89', '666', '4', '1,570']\n"
     ]
    }
   ],
   "source": [
    "scraper=AutoScraper()\n",
    "result=scraper.build(amazon_url,wanted_list)\n",
    "print(result)"
   ]
  },
  {
   "cell_type": "code",
   "execution_count": 13,
   "id": "f21d9698",
   "metadata": {},
   "outputs": [
    {
     "data": {
      "text/plain": [
       "{'rule_u5kc': ['SAMSUNG Galaxy A14 5G + 4G LTE (128GB + 4GB) Unlocked Worldwide (Only T-Mobile/Mint/Tello USA Market) 1 Year Warranty Latin America 6.6\" 50MP Triple Camera + (15W Wall Charger) (Silver)',\n",
       "  'Tracfone Samsung Galaxy A03s, 32GB, Black - Prepaid Smartphone (Locked)',\n",
       "  'Samsung Galaxy S5, White 16GB (AT&T)',\n",
       "  'SAMSUNG Galaxy A54 5G + 4G LTE (128GB + 8GB) Unlocked Dual Sim (Only T-Mobile/Mint/Metro USA Market) 1 Year Latin America 6.4\" 120Hz 50MP Triple Cam (Awesome Violet SM-A546E/DS)',\n",
       "  'SAMSUNG Galaxy A54 5G + 4G LTE Latin American Version (256GB + 8GB) Unlocked Worldwide (T-Mobile/Mint/Metro USA Market) NOT for Verizon, Sprint, Boost 6.4\" 120Hz 50MP Triple Cam - (Violet)',\n",
       "  'SAMSUNG Galaxy A34 5G + 4G LTE Latin American Version (256GB + 8GB) Unlocked Worldwide (Only T-Mobile/Mint/Metro USA Market) 6.6\" 120Hz 48MP Triple Camera - (Black)',\n",
       "  'Samsung Galaxy J3, Verizon LTE Prepaid (Black)',\n",
       "  'Samsung Galaxy S6, Black Sapphire 32GB (AT&T)',\n",
       "  'Total by Verizon Samsung Galaxy A03s, 32GB, Black - Prepaid Smartphone (Locked) & Tracfone Samsung Galaxy A03s, 32GB, Black - Prepaid Smartphone (Locked)',\n",
       "  'Samsung Galaxy S4, White Frost 16GB (Sprint)',\n",
       "  'Samsung Galaxy GS7 Edge, Black 32GB (Sprint)',\n",
       "  'Samsung Galaxy Note 5, White  32GB (AT&T)',\n",
       "  'SAMSUNG Galaxy Note9 N9600 128GB Unlocked GSM DUOS Phone w/Dual 12MP Camera (International Variant/US Compatible LTE) - Midnight Black (Renewed)',\n",
       "  'SAMSUNG Galaxy Z Fold 4 Cell Phone, Factory Unlocked Android Smartphone, 512GB, Flex Mode, Hands Free Video, Multi Window View, Foldable Display, S Pen Compatible, US Version, Gray Green',\n",
       "  'SAMSUNG Galaxy S22 Ultra Cell Phone, Factory Unlocked Android Smartphone, 512GB & Electronics Galaxy S22 Ultra Protective Standing Cover, High Protection Phone Case, 2 Detachable Kickstands',\n",
       "  'Samsung Galaxy S10+ Plus 512GB / 8GB RAM SM-G975F/DS Hybrid/Dual-SIM (GSM Only, No CDMA) Factory Unlocked 4G/LTE Smartphone - International Version No Warranty (Ceramic Black)'],\n",
       " 'rule_n0cg': ['$192.00',\n",
       "  '$350.23',\n",
       "  '$378.50',\n",
       "  '$308.00',\n",
       "  '$419.99',\n",
       "  '$599.99'],\n",
       " 'rule_ekda': ['$192.00',\n",
       "  '$350.23',\n",
       "  '$378.50',\n",
       "  '$308.00',\n",
       "  '$419.99',\n",
       "  '$599.99'],\n",
       " 'rule_amfv': ['5',\n",
       "  '769',\n",
       "  '4,772',\n",
       "  '1',\n",
       "  '131',\n",
       "  '689',\n",
       "  '2',\n",
       "  '478',\n",
       "  '64',\n",
       "  '1,371',\n",
       "  '249',\n",
       "  '3',\n",
       "  '153']}"
      ]
     },
     "execution_count": 13,
     "metadata": {},
     "output_type": "execute_result"
    }
   ],
   "source": [
    "scraper.get_result_similar(amazon_url,grouped=True)"
   ]
  },
  {
   "cell_type": "code",
   "execution_count": 14,
   "id": "a29ca657",
   "metadata": {},
   "outputs": [],
   "source": [
    "scraper.set_rule_aliases({'rule_u5kc':'Title','rule_n0cg':'Price'})\n",
    "scraper.keep_rules(['rule_u5kc','rule_n0cg'])\n",
    "scraper.save('amazon-search')"
   ]
  },
  {
   "cell_type": "code",
   "execution_count": 15,
   "id": "83c84c55",
   "metadata": {},
   "outputs": [],
   "source": [
    "results=scraper.get_result_similar('https://www.amazon.com/s?k=iphones',group_by_alias=True)\n"
   ]
  },
  {
   "cell_type": "code",
   "execution_count": 17,
   "id": "d2586ec1",
   "metadata": {},
   "outputs": [
    {
     "data": {
      "text/plain": [
       "['Tracfone Apple iPhone 8 Plus 4G LTE Prepaid Smartphone - 64GB - Space Gray - Carrier Locked',\n",
       " 'Tracfone Samsung Galaxy A03s, 32GB, Black - Prepaid Smartphone (Locked)',\n",
       " 'Apple iPhone 14 Pro Max 512 GB Unlocked Renewed Deep Purple Space Black Gold Silver Colours (Silver)',\n",
       " 'Google Pixel 6a - 5G Android Phone - Unlocked Smartphone with 12 Megapixel Camera and 24-Hour Battery - Chalk',\n",
       " 'WV LeisureMaster G23 + 5G Ultra Cell Phone - Factory Unlocked Android Smartphone, 128GB Storage, 100MP Camera - Long Battery Life - S Pen - US Version - 2023(Green)',\n",
       " 'Google Pixel 7 Pro - 5G Android Phone - Unlocked Smartphone with Telephoto, Wide Angle Lens, and 24-Hour Battery - 512GB - Snow',\n",
       " 'NUU B10 4G LTE Unlocked(T-Mobile ONLY) Android Smartphone | 6.55” HD+ Display | 48MP Triple-Camera | 64GB + 4GB RAM | 4000mAh Battery | White Wireless Earbuds Buds A',\n",
       " 'Cat S22 Flip (16GB) 2.8\" Touchscreen, Android 11, IP68 Water Resistant, 4G LTE GSM (T-Mobile Unlocked for MetroPCS, Global) (Black)',\n",
       " 'Google Pixel 6 – 5G Android Phone - Unlocked Smartphone with Wide and Ultrawide Lens - 128GB - Stormy Black',\n",
       " 'SAMSUNG Galaxy S22 Ultra Cell Phone, Factory Unlocked Android Smartphone, 128GB, 8K Camera, Brightest Display Screen, S Pen, Long Battery Life, Fast 4nm Processor, US Version, 2022, Phantom Black',\n",
       " 'OnePlus Nord N200 | 5G Unlocked Android Smartphone U.S Version | 6.49\" Full HD+LCD Screen | 90Hz Smooth Display | Large 5000mAh Battery | Fast Charging | 64GB Storage | Triple Camera,Blue Quantum',\n",
       " 'Sony Xperia 1 IV 512GB 5G Factory Unlocked Smartphone with WF-1000XM4 Earbuds [U.S. Official w/Warranty]',\n",
       " 'Google - Pixel 3 XL with 64GB Memory Cell Phone (Unlocked) - Not Pink',\n",
       " 'Google Pixel 7 - Unlocked Android 5G Smartphone - 256GB - Obsidian with $100 Amazon.com Gift Card',\n",
       " 'OnePlus 11 5G | 16GB RAM+256GB | Dual-SIM | Titan Black | US Factory Unlocked Android Smartphone | 5000 mAh battery | 80W Fast charging | Hasselblad Camera | 120Hz Fluid Display | 4nm Processor',\n",
       " 'Xperia 1 III - 5G Smartphone with 120Hz 6.5\" 21:9 4K HDR OLED display with triple camera and four focal lengths- XQBC62/B']"
      ]
     },
     "execution_count": 17,
     "metadata": {},
     "output_type": "execute_result"
    }
   ],
   "source": [
    "results['Title']"
   ]
  },
  {
   "cell_type": "code",
   "execution_count": null,
   "id": "ae7dd327",
   "metadata": {},
   "outputs": [],
   "source": [
    "results['Title']"
   ]
  }
 ],
 "metadata": {
  "kernelspec": {
   "display_name": "Python 3 (ipykernel)",
   "language": "python",
   "name": "python3"
  },
  "language_info": {
   "codemirror_mode": {
    "name": "ipython",
    "version": 3
   },
   "file_extension": ".py",
   "mimetype": "text/x-python",
   "name": "python",
   "nbconvert_exporter": "python",
   "pygments_lexer": "ipython3",
   "version": "3.9.13"
  }
 },
 "nbformat": 4,
 "nbformat_minor": 5
}
